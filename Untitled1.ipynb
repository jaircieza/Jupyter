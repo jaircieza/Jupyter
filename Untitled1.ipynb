{
  "metadata": {
    "language_info": {
      "codemirror_mode": {
        "name": "python",
        "version": 3
      },
      "file_extension": ".py",
      "mimetype": "text/x-python",
      "name": "python",
      "nbconvert_exporter": "python",
      "pygments_lexer": "ipython3",
      "version": "3.8"
    },
    "kernelspec": {
      "name": "python",
      "display_name": "Pyolite",
      "language": "python"
    }
  },
  "nbformat_minor": 4,
  "nbformat": 4,
  "cells": [
    {
      "cell_type": "markdown",
      "source": "# \"My Jupyter Notebook on IBM Watson Studio\"",
      "metadata": {}
    },
    {
      "cell_type": "markdown",
      "source": "**Ruben Jair Cieza**   \nCurrently I am a graduate student in Nanoscience",
      "metadata": {}
    },
    {
      "cell_type": "markdown",
      "source": "_I am interested in data science because it is an essential career for the present and future with an highly impact on every industry_",
      "metadata": {}
    },
    {
      "cell_type": "markdown",
      "source": "### My code will perfom any simple sum",
      "metadata": {}
    },
    {
      "cell_type": "code",
      "source": "a=2+2\nprint(a)",
      "metadata": {
        "trusted": true
      },
      "execution_count": 2,
      "outputs": [
        {
          "name": "stdout",
          "text": "4\n",
          "output_type": "stream"
        }
      ]
    },
    {
      "cell_type": "markdown",
      "source": "1. Love \n    1.Love\n        1.love\n-  Love\n\n\n\n| header | header |\n| ------ | ------ |\n| cell | cell |",
      "metadata": {}
    }
  ]
}